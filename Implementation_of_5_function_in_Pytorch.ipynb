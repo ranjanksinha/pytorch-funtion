{
  "nbformat": 4,
  "nbformat_minor": 0,
  "metadata": {
    "colab": {
      "name": "Implementation of 5 function in Pytorch ",
      "provenance": []
    },
    "kernelspec": {
      "name": "python3",
      "display_name": "Python 3"
    }
  },
  "cells": [
    {
      "cell_type": "markdown",
      "metadata": {
        "id": "Zpk2CLHcrPTZ",
        "colab_type": "text"
      },
      "source": [
        "# Assignment 1"
      ]
    },
    {
      "cell_type": "markdown",
      "metadata": {
        "id": "6f32hS4GnHUd",
        "colab_type": "text"
      },
      "source": [
        "# Introduction:\n",
        "PyTorch is library in the python that provides maximum fexibility and speed and is well known for its fast computational power. It is similar to numpy but this contains power of GPU."
      ]
    },
    {
      "cell_type": "code",
      "metadata": {
        "id": "BkDXyRPYs_7k",
        "colab_type": "code",
        "colab": {}
      },
      "source": [
        "# Import torch and other required modules\n",
        "import torch"
      ],
      "execution_count": 0,
      "outputs": []
    },
    {
      "cell_type": "markdown",
      "metadata": {
        "id": "Fu40fHhHrX38",
        "colab_type": "text"
      },
      "source": [
        "I am going to impliment 5 funtions of pytorch:\n",
        "\n",
        "\n",
        "1.   floor_divide(value)"
      ]
    },
    {
      "cell_type": "markdown",
      "metadata": {
        "id": "A0BNF_3zICoD",
        "colab_type": "text"
      },
      "source": [
        "floor_divide is a function in the pytroch which gives us the lowest integer in the division part. that is if our division result would be either 2.03 or 1.98 then our floor_divide gives the result 2 and 1 respectively."
      ]
    },
    {
      "cell_type": "code",
      "metadata": {
        "id": "Z6V2catRnGIu",
        "colab_type": "code",
        "colab": {}
      },
      "source": [
        "#1 floor_division\n",
        "a = torch.tensor([4.0, 8.0,8.0])\n",
        "b = torch.tensor([2.0, 2.0,6.0])\n",
        "c=torch.floor_divide(a, b)\n",
        "\n"
      ],
      "execution_count": 0,
      "outputs": []
    },
    {
      "cell_type": "code",
      "metadata": {
        "id": "QAFluSWjsvdp",
        "colab_type": "code",
        "outputId": "eeb97566-ea00-4196-cc04-da8916875151",
        "colab": {
          "base_uri": "https://localhost:8080/",
          "height": 34
        }
      },
      "source": [
        "torch.floor_divide(a,1.8)"
      ],
      "execution_count": 3,
      "outputs": [
        {
          "output_type": "execute_result",
          "data": {
            "text/plain": [
              "tensor([2., 4., 4.])"
            ]
          },
          "metadata": {
            "tags": []
          },
          "execution_count": 3
        }
      ]
    },
    {
      "cell_type": "markdown",
      "metadata": {
        "id": "F6_kFcgKrqkq",
        "colab_type": "text"
      },
      "source": [
        "this frac function gives the fractional part in the decimal number."
      ]
    },
    {
      "cell_type": "code",
      "metadata": {
        "id": "8N1HyUk1CP3_",
        "colab_type": "code",
        "outputId": "d3c1c960-69f6-43f2-b592-3f2f2b15c6f2",
        "colab": {
          "base_uri": "https://localhost:8080/",
          "height": 34
        }
      },
      "source": [
        "torch.frac(torch.div(a,b))"
      ],
      "execution_count": 4,
      "outputs": [
        {
          "output_type": "execute_result",
          "data": {
            "text/plain": [
              "tensor([0.0000, 0.0000, 0.3333])"
            ]
          },
          "metadata": {
            "tags": []
          },
          "execution_count": 4
        }
      ]
    },
    {
      "cell_type": "markdown",
      "metadata": {
        "id": "ETP_3br_sIOX",
        "colab_type": "text"
      },
      "source": [
        "2. torch.argsort(vales)\n",
        "This function gives the output of the values in sorted form. The default output will be in the ascending order by value."
      ]
    },
    {
      "cell_type": "code",
      "metadata": {
        "id": "YEgZgVOXCtZQ",
        "colab_type": "code",
        "colab": {
          "base_uri": "https://localhost:8080/",
          "height": 118
        },
        "outputId": "82c3a3ce-c453-4779-c4b6-bf1d276ced85"
      },
      "source": [
        "a = torch.randn(3, 4)\n",
        "print(a)\n",
        "torch.argsort(a)"
      ],
      "execution_count": 27,
      "outputs": [
        {
          "output_type": "stream",
          "text": [
            "tensor([[-0.0442, -0.2813, -1.0147,  0.9906],\n",
            "        [ 1.0399,  0.3348,  0.2659,  1.8946],\n",
            "        [ 0.2963,  0.1490,  0.2883,  0.8292]])\n"
          ],
          "name": "stdout"
        },
        {
          "output_type": "execute_result",
          "data": {
            "text/plain": [
              "tensor([[2, 1, 0, 3],\n",
              "        [2, 1, 0, 3],\n",
              "        [1, 2, 0, 3]])"
            ]
          },
          "metadata": {
            "tags": []
          },
          "execution_count": 27
        }
      ]
    },
    {
      "cell_type": "markdown",
      "metadata": {
        "id": "ojxw178-6CNh",
        "colab_type": "text"
      },
      "source": [
        "3. torch.equal(input). \n",
        "\n",
        "This function gives boolean output and it compares the values in side the input."
      ]
    },
    {
      "cell_type": "code",
      "metadata": {
        "id": "8-lbY6_j3G_y",
        "colab_type": "code",
        "colab": {
          "base_uri": "https://localhost:8080/",
          "height": 34
        },
        "outputId": "568f6db0-70d4-44d5-a9c0-9738c1b7e94d"
      },
      "source": [
        "torch.equal(torch.tensor([2,2,1]), torch.tensor([1, 2]))"
      ],
      "execution_count": 28,
      "outputs": [
        {
          "output_type": "execute_result",
          "data": {
            "text/plain": [
              "False"
            ]
          },
          "metadata": {
            "tags": []
          },
          "execution_count": 28
        }
      ]
    },
    {
      "cell_type": "markdown",
      "metadata": {
        "id": "pOq1Ej_P60oB",
        "colab_type": "text"
      },
      "source": [
        "4. torch.isnan()\n",
        "\n",
        "This function gives the missing values are present in the the data or not? But it gives the boolean output."
      ]
    },
    {
      "cell_type": "code",
      "metadata": {
        "id": "eJ3B5VK04eNq",
        "colab_type": "code",
        "colab": {
          "base_uri": "https://localhost:8080/",
          "height": 34
        },
        "outputId": "6f255fee-390e-4da0-b371-a14f7d21b550"
      },
      "source": [
        "torch.isnan(torch.tensor([float('nan'), float('nan'), 5,2]))"
      ],
      "execution_count": 30,
      "outputs": [
        {
          "output_type": "execute_result",
          "data": {
            "text/plain": [
              "tensor([ True,  True, False, False])"
            ]
          },
          "metadata": {
            "tags": []
          },
          "execution_count": 30
        }
      ]
    },
    {
      "cell_type": "markdown",
      "metadata": {
        "id": "GZtrTnkn7pqr",
        "colab_type": "text"
      },
      "source": [
        "from above output we can see that 'nan' value means and it compare and gives the output is True because we are comparing the missing values so it says that yes."
      ]
    },
    {
      "cell_type": "markdown",
      "metadata": {
        "id": "IbaLYSy88Zas",
        "colab_type": "text"
      },
      "source": [
        "5. torch.max()\n",
        "\n",
        "This function gives the maximum values present in the data."
      ]
    },
    {
      "cell_type": "code",
      "metadata": {
        "id": "G4-MlVU17kU8",
        "colab_type": "code",
        "colab": {
          "base_uri": "https://localhost:8080/",
          "height": 84
        },
        "outputId": "d4affb90-5d27-46d5-8183-95940ec8bf1b"
      },
      "source": [
        "a=torch.randn(3,4)\n",
        "print(a)\n",
        "torch.max(a)"
      ],
      "execution_count": 33,
      "outputs": [
        {
          "output_type": "stream",
          "text": [
            "tensor([[-0.4106, -1.0540,  1.6819,  0.2485],\n",
            "        [-0.4715,  2.0338, -1.1480, -1.4665],\n",
            "        [-0.5358,  1.6344, -0.6077,  0.5214]])\n"
          ],
          "name": "stdout"
        },
        {
          "output_type": "execute_result",
          "data": {
            "text/plain": [
              "tensor(2.0338)"
            ]
          },
          "metadata": {
            "tags": []
          },
          "execution_count": 33
        }
      ]
    },
    {
      "cell_type": "code",
      "metadata": {
        "id": "kWbfJh9I8X7G",
        "colab_type": "code",
        "colab": {}
      },
      "source": [
        ""
      ],
      "execution_count": 0,
      "outputs": []
    }
  ]
}